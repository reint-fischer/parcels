{
 "cells": [
  {
   "attachments": {},
   "cell_type": "markdown",
   "metadata": {},
   "source": [
    "## Adding new particles to a ParticleSet during runtime\n"
   ]
  },
  {
   "attachments": {},
   "cell_type": "markdown",
   "metadata": {},
   "source": [
    "There are use-cases, where it is important to be able to add particles 'on-the-fly', during the runtime of a Parcels simulation.\n",
    "\n",
    "Unfortuantely, Parcels does not (yet) support adding new particles _within_ a `Kernel`. A workaround is to temporarily leave the `execution()` call to add particles via the `ParticleSet.add()` method, before continuing with `execution()`.\n",
    "\n",
    "See the example below, where we add 'mass' to a particle each timestep, based on a probablistic condition, and then split the particle once its 'mass' is larger than 5\n"
   ]
  },
  {
   "cell_type": "code",
   "execution_count": null,
   "metadata": {},
   "outputs": [],
   "source": [
    "GrowingParticle = parcels.Particle.add_variable(\n",
    "    [\n",
    "        parcels.Variable(\"mass\", initial=0),\n",
    "        parcels.Variable(\"splittime\", initial=-1),\n",
    "        parcels.Variable(\"splitmass\", initial=0),\n",
    "    ]\n",
    ")\n",
    "\n",
    "\n",
    "def GrowParticles(particles, fieldset):\n",
    "    import random\n",
    "\n",
    "    # 25% chance per timestep for particle to grow\n",
    "    if random.random() < 0.25:\n",
    "        particles.mass += 1.0\n",
    "    growing_particles = (particles.mass >= 5.0) and (particles.splittime < 0)\n",
    "    particles[growing_particles].splittime = particles.time\n",
    "    particles[growing_particles].splitmass = particles.mass / 2.0\n",
    "    particles[growing_particles].mass = particles.mass / 2.0\n",
    "\n",
    "\n",
    "pset = parcels.ParticleSet(fieldset=fieldset, pclass=GrowingParticle, lon=0, lat=0, time=fieldset.time_interval.left)\n",
    "outfile = parcels.ParticleFile(\"growingparticles.zarr\", outputdt=np.timedelta64(1,'h'))\n",
    "\n"
   ]
  },
  {
   "cell_type": "code",
   "execution_count": null,
   "metadata": {},
   "outputs": [
    {
     "name": "stdout",
     "output_type": "stream",
     "text": [
      "INFO: Output files are stored in /Users/Gebruiker/Documents/GitHub/parcels/docs/examples_v3/growingparticles.zarr\n"
     ]
    },
    {
     "ename": "TypeError",
     "evalue": "datetime64 values must have a unit specified",
     "output_type": "error",
     "traceback": [
      "\u001b[31m---------------------------------------------------------------------------\u001b[39m",
      "\u001b[31mTypeError\u001b[39m                                 Traceback (most recent call last)",
      "\u001b[36mCell\u001b[39m\u001b[36m \u001b[39m\u001b[32mIn[20]\u001b[39m\u001b[32m, line 2\u001b[39m\n\u001b[32m      1\u001b[39m \u001b[38;5;28;01mfor\u001b[39;00m t \u001b[38;5;129;01min\u001b[39;00m \u001b[38;5;28mrange\u001b[39m(\u001b[32m40\u001b[39m):\n\u001b[32m----> \u001b[39m\u001b[32m2\u001b[39m     \u001b[43mpset\u001b[49m\u001b[43m.\u001b[49m\u001b[43mexecute\u001b[49m\u001b[43m(\u001b[49m\n\u001b[32m      3\u001b[39m \u001b[43m        \u001b[49m\u001b[43mGrowParticles\u001b[49m\u001b[43m,\u001b[49m\u001b[43m \u001b[49m\u001b[43mruntime\u001b[49m\u001b[43m=\u001b[49m\u001b[43mnp\u001b[49m\u001b[43m.\u001b[49m\u001b[43mtimedelta64\u001b[49m\u001b[43m(\u001b[49m\u001b[32;43m1\u001b[39;49m\u001b[43m,\u001b[49m\u001b[33;43m'\u001b[39;49m\u001b[33;43mh\u001b[39;49m\u001b[33;43m'\u001b[39;49m\u001b[43m)\u001b[49m\u001b[43m,\u001b[49m\u001b[43m \u001b[49m\u001b[43mdt\u001b[49m\u001b[43m=\u001b[49m\u001b[43mnp\u001b[49m\u001b[43m.\u001b[49m\u001b[43mtimedelta64\u001b[49m\u001b[43m(\u001b[49m\u001b[32;43m1\u001b[39;49m\u001b[43m,\u001b[49m\u001b[33;43m'\u001b[39;49m\u001b[33;43mh\u001b[39;49m\u001b[33;43m'\u001b[39;49m\u001b[43m)\u001b[49m\u001b[43m,\u001b[49m\u001b[43m \u001b[49m\u001b[43moutput_file\u001b[49m\u001b[43m=\u001b[49m\u001b[43moutfile\u001b[49m\u001b[43m,\u001b[49m\u001b[43m \u001b[49m\u001b[43mverbose_progress\u001b[49m\u001b[43m=\u001b[49m\u001b[38;5;28;43;01mFalse\u001b[39;49;00m\n\u001b[32m      4\u001b[39m \u001b[43m    \u001b[49m\u001b[43m)\u001b[49m\n\u001b[32m      5\u001b[39m     \u001b[38;5;28;01mfor\u001b[39;00m p \u001b[38;5;129;01min\u001b[39;00m pset:\n\u001b[32m      6\u001b[39m         \u001b[38;5;28;01mif\u001b[39;00m p.splittime > \u001b[32m0\u001b[39m:\n",
      "\u001b[36mFile \u001b[39m\u001b[32m~/Documents/GitHub/parcels/src/parcels/_core/particleset.py:552\u001b[39m, in \u001b[36mParticleSet.execute\u001b[39m\u001b[34m(self, pyfunc, dt, endtime, runtime, output_file, verbose_progress)\u001b[39m\n\u001b[32m    550\u001b[39m \u001b[38;5;28;01mif\u001b[39;00m np.abs(next_time - next_output) < np.timedelta64(\u001b[32m1000\u001b[39m, \u001b[33m\"\u001b[39m\u001b[33mns\u001b[39m\u001b[33m\"\u001b[39m):\n\u001b[32m    551\u001b[39m     \u001b[38;5;28;01mif\u001b[39;00m output_file:\n\u001b[32m--> \u001b[39m\u001b[32m552\u001b[39m         \u001b[43moutput_file\u001b[49m\u001b[43m.\u001b[49m\u001b[43mwrite\u001b[49m\u001b[43m(\u001b[49m\u001b[38;5;28;43mself\u001b[39;49m\u001b[43m,\u001b[49m\u001b[43m \u001b[49m\u001b[43mnext_output\u001b[49m\u001b[43m)\u001b[49m\n\u001b[32m    553\u001b[39m     \u001b[38;5;28;01mif\u001b[39;00m np.isfinite(outputdt):\n\u001b[32m    554\u001b[39m         next_output += outputdt\n",
      "\u001b[36mFile \u001b[39m\u001b[32m~/Documents/GitHub/parcels/src/parcels/_core/particlefile.py:163\u001b[39m, in \u001b[36mParticleFile.write\u001b[39m\u001b[34m(self, pset, time, indices)\u001b[39m\n\u001b[32m    160\u001b[39m time = timedelta_to_float(time - time_interval.left)\n\u001b[32m    161\u001b[39m particle_data = _convert_particle_data_time_to_float_seconds(particle_data, time_interval)\n\u001b[32m--> \u001b[39m\u001b[32m163\u001b[39m \u001b[38;5;28;43mself\u001b[39;49m\u001b[43m.\u001b[49m\u001b[43m_write_particle_data\u001b[49m\u001b[43m(\u001b[49m\n\u001b[32m    164\u001b[39m \u001b[43m    \u001b[49m\u001b[43mparticle_data\u001b[49m\u001b[43m=\u001b[49m\u001b[43mparticle_data\u001b[49m\u001b[43m,\u001b[49m\u001b[43m \u001b[49m\u001b[43mpclass\u001b[49m\u001b[43m=\u001b[49m\u001b[43mpclass\u001b[49m\u001b[43m,\u001b[49m\u001b[43m \u001b[49m\u001b[43mtime_interval\u001b[49m\u001b[43m=\u001b[49m\u001b[43mtime_interval\u001b[49m\u001b[43m,\u001b[49m\u001b[43m \u001b[49m\u001b[43mtime\u001b[49m\u001b[43m=\u001b[49m\u001b[43mtime\u001b[49m\u001b[43m,\u001b[49m\u001b[43m \u001b[49m\u001b[43mindices\u001b[49m\u001b[43m=\u001b[49m\u001b[43mindices\u001b[49m\n\u001b[32m    165\u001b[39m \u001b[43m\u001b[49m\u001b[43m)\u001b[49m\n",
      "\u001b[36mFile \u001b[39m\u001b[32m~/Documents/GitHub/parcels/src/parcels/_core/particlefile.py:226\u001b[39m, in \u001b[36mParticleFile._write_particle_data\u001b[39m\u001b[34m(self, particle_data, pclass, time_interval, time, indices)\u001b[39m\n\u001b[32m    224\u001b[39m             data[ids, \u001b[32m0\u001b[39m] = particle_data[var.name][indices_to_write]\n\u001b[32m    225\u001b[39m             dims = [\u001b[33m\"\u001b[39m\u001b[33mtrajectory\u001b[39m\u001b[33m\"\u001b[39m, \u001b[33m\"\u001b[39m\u001b[33mobs\u001b[39m\u001b[33m\"\u001b[39m]\n\u001b[32m--> \u001b[39m\u001b[32m226\u001b[39m         ds[var.name] = \u001b[43mxr\u001b[49m\u001b[43m.\u001b[49m\u001b[43mDataArray\u001b[49m\u001b[43m(\u001b[49m\u001b[43mdata\u001b[49m\u001b[43m=\u001b[49m\u001b[43mdata\u001b[49m\u001b[43m,\u001b[49m\u001b[43m \u001b[49m\u001b[43mdims\u001b[49m\u001b[43m=\u001b[49m\u001b[43mdims\u001b[49m\u001b[43m,\u001b[49m\u001b[43m \u001b[49m\u001b[43mattrs\u001b[49m\u001b[43m=\u001b[49m\u001b[43mattrs\u001b[49m\u001b[43m[\u001b[49m\u001b[43mvar\u001b[49m\u001b[43m.\u001b[49m\u001b[43mname\u001b[49m\u001b[43m]\u001b[49m\u001b[43m)\u001b[49m\n\u001b[32m    227\u001b[39m         ds[var.name].encoding[\u001b[33m\"\u001b[39m\u001b[33mchunks\u001b[39m\u001b[33m\"\u001b[39m] = \u001b[38;5;28mself\u001b[39m.chunks[\u001b[32m0\u001b[39m] \u001b[38;5;28;01mif\u001b[39;00m var.to_write == \u001b[33m\"\u001b[39m\u001b[33monce\u001b[39m\u001b[33m\"\u001b[39m \u001b[38;5;28;01melse\u001b[39;00m \u001b[38;5;28mself\u001b[39m.chunks  \u001b[38;5;66;03m# type: ignore[index]\u001b[39;00m\n\u001b[32m    228\u001b[39m ds.to_zarr(store, mode=\u001b[33m\"\u001b[39m\u001b[33mw\u001b[39m\u001b[33m\"\u001b[39m)\n",
      "\u001b[36mFile \u001b[39m\u001b[32m~/Documents/GitHub/parcels/.pixi/envs/test-notebooks/lib/python3.11/site-packages/xarray/core/dataarray.py:454\u001b[39m, in \u001b[36mDataArray.__init__\u001b[39m\u001b[34m(self, data, coords, dims, name, attrs, indexes, fastpath)\u001b[39m\n\u001b[32m    451\u001b[39m     attrs = \u001b[38;5;28mgetattr\u001b[39m(data, \u001b[33m\"\u001b[39m\u001b[33mattrs\u001b[39m\u001b[33m\"\u001b[39m, \u001b[38;5;28;01mNone\u001b[39;00m)\n\u001b[32m    453\u001b[39m data = _check_data_shape(data, coords, dims)\n\u001b[32m--> \u001b[39m\u001b[32m454\u001b[39m data = \u001b[43mas_compatible_data\u001b[49m\u001b[43m(\u001b[49m\u001b[43mdata\u001b[49m\u001b[43m)\u001b[49m\n\u001b[32m    455\u001b[39m coords, dims = _infer_coords_and_dims(data.shape, coords, dims)\n\u001b[32m    456\u001b[39m variable = Variable(dims, data, attrs, fastpath=\u001b[38;5;28;01mTrue\u001b[39;00m)\n",
      "\u001b[36mFile \u001b[39m\u001b[32m~/Documents/GitHub/parcels/.pixi/envs/test-notebooks/lib/python3.11/site-packages/xarray/core/variable.py:320\u001b[39m, in \u001b[36mas_compatible_data\u001b[39m\u001b[34m(data, fastpath)\u001b[39m\n\u001b[32m    317\u001b[39m data = np.asarray(data)\n\u001b[32m    319\u001b[39m \u001b[38;5;28;01mif\u001b[39;00m \u001b[38;5;28misinstance\u001b[39m(data, np.ndarray) \u001b[38;5;129;01mand\u001b[39;00m data.dtype.kind \u001b[38;5;129;01min\u001b[39;00m \u001b[33m\"\u001b[39m\u001b[33mOMm\u001b[39m\u001b[33m\"\u001b[39m:\n\u001b[32m--> \u001b[39m\u001b[32m320\u001b[39m     data = \u001b[43m_possibly_convert_objects\u001b[49m\u001b[43m(\u001b[49m\u001b[43mdata\u001b[49m\u001b[43m)\u001b[49m\n\u001b[32m    321\u001b[39m \u001b[38;5;28;01mreturn\u001b[39;00m _maybe_wrap_data(data)\n",
      "\u001b[36mFile \u001b[39m\u001b[32m~/Documents/GitHub/parcels/.pixi/envs/test-notebooks/lib/python3.11/site-packages/xarray/core/variable.py:232\u001b[39m, in \u001b[36m_possibly_convert_objects\u001b[39m\u001b[34m(values)\u001b[39m\n\u001b[32m    220\u001b[39m \u001b[38;5;28;01mdef\u001b[39;00m\u001b[38;5;250m \u001b[39m\u001b[34m_possibly_convert_objects\u001b[39m(values):\n\u001b[32m    221\u001b[39m \u001b[38;5;250m    \u001b[39m\u001b[33;03m\"\"\"Convert arrays of datetime.datetime and datetime.timedelta objects into\u001b[39;00m\n\u001b[32m    222\u001b[39m \u001b[33;03m    datetime64 and timedelta64, according to the pandas convention. For the time\u001b[39;00m\n\u001b[32m    223\u001b[39m \u001b[33;03m    being, convert any non-nanosecond precision DatetimeIndex or TimedeltaIndex\u001b[39;00m\n\u001b[32m   (...)\u001b[39m\u001b[32m    230\u001b[39m \u001b[33;03m    if they are not.\u001b[39;00m\n\u001b[32m    231\u001b[39m \u001b[33;03m    \"\"\"\u001b[39;00m\n\u001b[32m--> \u001b[39m\u001b[32m232\u001b[39m     as_series = \u001b[43mpd\u001b[49m\u001b[43m.\u001b[49m\u001b[43mSeries\u001b[49m\u001b[43m(\u001b[49m\u001b[43mvalues\u001b[49m\u001b[43m.\u001b[49m\u001b[43mravel\u001b[49m\u001b[43m(\u001b[49m\u001b[43m)\u001b[49m\u001b[43m,\u001b[49m\u001b[43m \u001b[49m\u001b[43mcopy\u001b[49m\u001b[43m=\u001b[49m\u001b[38;5;28;43;01mFalse\u001b[39;49;00m\u001b[43m)\u001b[49m\n\u001b[32m    233\u001b[39m     \u001b[38;5;28;01mif\u001b[39;00m as_series.dtype.kind \u001b[38;5;129;01min\u001b[39;00m \u001b[33m\"\u001b[39m\u001b[33mmM\u001b[39m\u001b[33m\"\u001b[39m:\n\u001b[32m    234\u001b[39m         as_series = _as_nanosecond_precision(as_series)\n",
      "\u001b[36mFile \u001b[39m\u001b[32m~/Documents/GitHub/parcels/.pixi/envs/test-notebooks/lib/python3.11/site-packages/pandas/core/series.py:591\u001b[39m, in \u001b[36mSeries.__init__\u001b[39m\u001b[34m(self, data, index, dtype, name, copy, fastpath)\u001b[39m\n\u001b[32m    589\u001b[39m manager = _get_option(\u001b[33m\"\u001b[39m\u001b[33mmode.data_manager\u001b[39m\u001b[33m\"\u001b[39m, silent=\u001b[38;5;28;01mTrue\u001b[39;00m)\n\u001b[32m    590\u001b[39m \u001b[38;5;28;01mif\u001b[39;00m manager == \u001b[33m\"\u001b[39m\u001b[33mblock\u001b[39m\u001b[33m\"\u001b[39m:\n\u001b[32m--> \u001b[39m\u001b[32m591\u001b[39m     data = \u001b[43mSingleBlockManager\u001b[49m\u001b[43m.\u001b[49m\u001b[43mfrom_array\u001b[49m\u001b[43m(\u001b[49m\u001b[43mdata\u001b[49m\u001b[43m,\u001b[49m\u001b[43m \u001b[49m\u001b[43mindex\u001b[49m\u001b[43m,\u001b[49m\u001b[43m \u001b[49m\u001b[43mrefs\u001b[49m\u001b[43m=\u001b[49m\u001b[43mrefs\u001b[49m\u001b[43m)\u001b[49m\n\u001b[32m    592\u001b[39m \u001b[38;5;28;01melif\u001b[39;00m manager == \u001b[33m\"\u001b[39m\u001b[33marray\u001b[39m\u001b[33m\"\u001b[39m:\n\u001b[32m    593\u001b[39m     data = SingleArrayManager.from_array(data, index)\n",
      "\u001b[36mFile \u001b[39m\u001b[32m~/Documents/GitHub/parcels/.pixi/envs/test-notebooks/lib/python3.11/site-packages/pandas/core/internals/managers.py:1889\u001b[39m, in \u001b[36mSingleBlockManager.from_array\u001b[39m\u001b[34m(cls, array, index, refs)\u001b[39m\n\u001b[32m   1882\u001b[39m \u001b[38;5;129m@classmethod\u001b[39m\n\u001b[32m   1883\u001b[39m \u001b[38;5;28;01mdef\u001b[39;00m\u001b[38;5;250m \u001b[39m\u001b[34mfrom_array\u001b[39m(\n\u001b[32m   1884\u001b[39m     \u001b[38;5;28mcls\u001b[39m, array: ArrayLike, index: Index, refs: BlockValuesRefs | \u001b[38;5;28;01mNone\u001b[39;00m = \u001b[38;5;28;01mNone\u001b[39;00m\n\u001b[32m   1885\u001b[39m ) -> SingleBlockManager:\n\u001b[32m   1886\u001b[39m \u001b[38;5;250m    \u001b[39m\u001b[33;03m\"\"\"\u001b[39;00m\n\u001b[32m   1887\u001b[39m \u001b[33;03m    Constructor for if we have an array that is not yet a Block.\u001b[39;00m\n\u001b[32m   1888\u001b[39m \u001b[33;03m    \"\"\"\u001b[39;00m\n\u001b[32m-> \u001b[39m\u001b[32m1889\u001b[39m     array = \u001b[43mmaybe_coerce_values\u001b[49m\u001b[43m(\u001b[49m\u001b[43marray\u001b[49m\u001b[43m)\u001b[49m\n\u001b[32m   1890\u001b[39m     bp = BlockPlacement(\u001b[38;5;28mslice\u001b[39m(\u001b[32m0\u001b[39m, \u001b[38;5;28mlen\u001b[39m(index)))\n\u001b[32m   1891\u001b[39m     block = new_block(array, placement=bp, ndim=\u001b[32m1\u001b[39m, refs=refs)\n",
      "\u001b[36mFile \u001b[39m\u001b[32m~/Documents/GitHub/parcels/.pixi/envs/test-notebooks/lib/python3.11/site-packages/pandas/core/internals/blocks.py:2735\u001b[39m, in \u001b[36mmaybe_coerce_values\u001b[39m\u001b[34m(values)\u001b[39m\n\u001b[32m   2732\u001b[39m \u001b[38;5;66;03m# Caller is responsible for ensuring NumpyExtensionArray is already extracted.\u001b[39;00m\n\u001b[32m   2734\u001b[39m \u001b[38;5;28;01mif\u001b[39;00m \u001b[38;5;28misinstance\u001b[39m(values, np.ndarray):\n\u001b[32m-> \u001b[39m\u001b[32m2735\u001b[39m     values = \u001b[43mensure_wrapped_if_datetimelike\u001b[49m\u001b[43m(\u001b[49m\u001b[43mvalues\u001b[49m\u001b[43m)\u001b[49m\n\u001b[32m   2737\u001b[39m     \u001b[38;5;28;01mif\u001b[39;00m \u001b[38;5;28missubclass\u001b[39m(values.dtype.type, \u001b[38;5;28mstr\u001b[39m):\n\u001b[32m   2738\u001b[39m         values = np.array(values, dtype=\u001b[38;5;28mobject\u001b[39m)\n",
      "\u001b[36mFile \u001b[39m\u001b[32m~/Documents/GitHub/parcels/.pixi/envs/test-notebooks/lib/python3.11/site-packages/pandas/core/construction.py:490\u001b[39m, in \u001b[36mensure_wrapped_if_datetimelike\u001b[39m\u001b[34m(arr)\u001b[39m\n\u001b[32m    487\u001b[39m     \u001b[38;5;28;01mfrom\u001b[39;00m\u001b[38;5;250m \u001b[39m\u001b[34;01mpandas\u001b[39;00m\u001b[34;01m.\u001b[39;00m\u001b[34;01mcore\u001b[39;00m\u001b[34;01m.\u001b[39;00m\u001b[34;01marrays\u001b[39;00m\u001b[38;5;250m \u001b[39m\u001b[38;5;28;01mimport\u001b[39;00m DatetimeArray\n\u001b[32m    489\u001b[39m     dtype = get_supported_dtype(arr.dtype)\n\u001b[32m--> \u001b[39m\u001b[32m490\u001b[39m     \u001b[38;5;28;01mreturn\u001b[39;00m \u001b[43mDatetimeArray\u001b[49m\u001b[43m.\u001b[49m\u001b[43m_from_sequence\u001b[49m\u001b[43m(\u001b[49m\u001b[43marr\u001b[49m\u001b[43m,\u001b[49m\u001b[43m \u001b[49m\u001b[43mdtype\u001b[49m\u001b[43m=\u001b[49m\u001b[43mdtype\u001b[49m\u001b[43m)\u001b[49m\n\u001b[32m    492\u001b[39m \u001b[38;5;28;01melif\u001b[39;00m arr.dtype.kind == \u001b[33m\"\u001b[39m\u001b[33mm\u001b[39m\u001b[33m\"\u001b[39m:\n\u001b[32m    493\u001b[39m     \u001b[38;5;28;01mfrom\u001b[39;00m\u001b[38;5;250m \u001b[39m\u001b[34;01mpandas\u001b[39;00m\u001b[34;01m.\u001b[39;00m\u001b[34;01mcore\u001b[39;00m\u001b[34;01m.\u001b[39;00m\u001b[34;01marrays\u001b[39;00m\u001b[38;5;250m \u001b[39m\u001b[38;5;28;01mimport\u001b[39;00m TimedeltaArray\n",
      "\u001b[36mFile \u001b[39m\u001b[32m~/Documents/GitHub/parcels/.pixi/envs/test-notebooks/lib/python3.11/site-packages/pandas/core/arrays/datetimes.py:329\u001b[39m, in \u001b[36mDatetimeArray._from_sequence\u001b[39m\u001b[34m(cls, scalars, dtype, copy)\u001b[39m\n\u001b[32m    327\u001b[39m \u001b[38;5;129m@classmethod\u001b[39m\n\u001b[32m    328\u001b[39m \u001b[38;5;28;01mdef\u001b[39;00m\u001b[38;5;250m \u001b[39m\u001b[34m_from_sequence\u001b[39m(\u001b[38;5;28mcls\u001b[39m, scalars, *, dtype=\u001b[38;5;28;01mNone\u001b[39;00m, copy: \u001b[38;5;28mbool\u001b[39m = \u001b[38;5;28;01mFalse\u001b[39;00m):\n\u001b[32m--> \u001b[39m\u001b[32m329\u001b[39m     \u001b[38;5;28;01mreturn\u001b[39;00m \u001b[38;5;28;43mcls\u001b[39;49m\u001b[43m.\u001b[49m\u001b[43m_from_sequence_not_strict\u001b[49m\u001b[43m(\u001b[49m\u001b[43mscalars\u001b[49m\u001b[43m,\u001b[49m\u001b[43m \u001b[49m\u001b[43mdtype\u001b[49m\u001b[43m=\u001b[49m\u001b[43mdtype\u001b[49m\u001b[43m,\u001b[49m\u001b[43m \u001b[49m\u001b[43mcopy\u001b[49m\u001b[43m=\u001b[49m\u001b[43mcopy\u001b[49m\u001b[43m)\u001b[49m\n",
      "\u001b[36mFile \u001b[39m\u001b[32m~/Documents/GitHub/parcels/.pixi/envs/test-notebooks/lib/python3.11/site-packages/pandas/core/arrays/datetimes.py:371\u001b[39m, in \u001b[36mDatetimeArray._from_sequence_not_strict\u001b[39m\u001b[34m(cls, data, dtype, copy, tz, freq, dayfirst, yearfirst, ambiguous)\u001b[39m\n\u001b[32m    368\u001b[39m \u001b[38;5;28;01mif\u001b[39;00m \u001b[38;5;28misinstance\u001b[39m(data, DatetimeArray):\n\u001b[32m    369\u001b[39m     inferred_freq = data.freq\n\u001b[32m--> \u001b[39m\u001b[32m371\u001b[39m subarr, tz = \u001b[43m_sequence_to_dt64\u001b[49m\u001b[43m(\u001b[49m\n\u001b[32m    372\u001b[39m \u001b[43m    \u001b[49m\u001b[43mdata\u001b[49m\u001b[43m,\u001b[49m\n\u001b[32m    373\u001b[39m \u001b[43m    \u001b[49m\u001b[43mcopy\u001b[49m\u001b[43m=\u001b[49m\u001b[43mcopy\u001b[49m\u001b[43m,\u001b[49m\n\u001b[32m    374\u001b[39m \u001b[43m    \u001b[49m\u001b[43mtz\u001b[49m\u001b[43m=\u001b[49m\u001b[43mtz\u001b[49m\u001b[43m,\u001b[49m\n\u001b[32m    375\u001b[39m \u001b[43m    \u001b[49m\u001b[43mdayfirst\u001b[49m\u001b[43m=\u001b[49m\u001b[43mdayfirst\u001b[49m\u001b[43m,\u001b[49m\n\u001b[32m    376\u001b[39m \u001b[43m    \u001b[49m\u001b[43myearfirst\u001b[49m\u001b[43m=\u001b[49m\u001b[43myearfirst\u001b[49m\u001b[43m,\u001b[49m\n\u001b[32m    377\u001b[39m \u001b[43m    \u001b[49m\u001b[43mambiguous\u001b[49m\u001b[43m=\u001b[49m\u001b[43mambiguous\u001b[49m\u001b[43m,\u001b[49m\n\u001b[32m    378\u001b[39m \u001b[43m    \u001b[49m\u001b[43mout_unit\u001b[49m\u001b[43m=\u001b[49m\u001b[43munit\u001b[49m\u001b[43m,\u001b[49m\n\u001b[32m    379\u001b[39m \u001b[43m\u001b[49m\u001b[43m)\u001b[49m\n\u001b[32m    380\u001b[39m \u001b[38;5;66;03m# We have to call this again after possibly inferring a tz above\u001b[39;00m\n\u001b[32m    381\u001b[39m _validate_tz_from_dtype(dtype, tz, explicit_tz_none)\n",
      "\u001b[36mFile \u001b[39m\u001b[32m~/Documents/GitHub/parcels/.pixi/envs/test-notebooks/lib/python3.11/site-packages/pandas/core/arrays/datetimes.py:2304\u001b[39m, in \u001b[36m_sequence_to_dt64\u001b[39m\u001b[34m(data, copy, tz, dayfirst, yearfirst, ambiguous, out_unit)\u001b[39m\n\u001b[32m   2301\u001b[39m         data = data._ndarray\n\u001b[32m   2303\u001b[39m     data = cast(np.ndarray, data)\n\u001b[32m-> \u001b[39m\u001b[32m2304\u001b[39m     result, copy = \u001b[43m_construct_from_dt64_naive\u001b[49m\u001b[43m(\u001b[49m\n\u001b[32m   2305\u001b[39m \u001b[43m        \u001b[49m\u001b[43mdata\u001b[49m\u001b[43m,\u001b[49m\u001b[43m \u001b[49m\u001b[43mtz\u001b[49m\u001b[43m=\u001b[49m\u001b[43mtz\u001b[49m\u001b[43m,\u001b[49m\u001b[43m \u001b[49m\u001b[43mcopy\u001b[49m\u001b[43m=\u001b[49m\u001b[43mcopy\u001b[49m\u001b[43m,\u001b[49m\u001b[43m \u001b[49m\u001b[43mambiguous\u001b[49m\u001b[43m=\u001b[49m\u001b[43mambiguous\u001b[49m\n\u001b[32m   2306\u001b[39m \u001b[43m    \u001b[49m\u001b[43m)\u001b[49m\n\u001b[32m   2308\u001b[39m \u001b[38;5;28;01melse\u001b[39;00m:\n\u001b[32m   2309\u001b[39m     \u001b[38;5;66;03m# must be integer dtype otherwise\u001b[39;00m\n\u001b[32m   2310\u001b[39m     \u001b[38;5;66;03m# assume this data are epoch timestamps\u001b[39;00m\n\u001b[32m   2311\u001b[39m     \u001b[38;5;28;01mif\u001b[39;00m data.dtype != INT64_DTYPE:\n",
      "\u001b[36mFile \u001b[39m\u001b[32m~/Documents/GitHub/parcels/.pixi/envs/test-notebooks/lib/python3.11/site-packages/pandas/core/arrays/datetimes.py:2340\u001b[39m, in \u001b[36m_construct_from_dt64_naive\u001b[39m\u001b[34m(data, tz, copy, ambiguous)\u001b[39m\n\u001b[32m   2337\u001b[39m \u001b[38;5;28;01mif\u001b[39;00m \u001b[38;5;129;01mnot\u001b[39;00m is_supported_dtype(new_dtype):\n\u001b[32m   2338\u001b[39m     \u001b[38;5;66;03m# Cast to the nearest supported unit, generally \"s\"\u001b[39;00m\n\u001b[32m   2339\u001b[39m     new_dtype = get_supported_dtype(new_dtype)\n\u001b[32m-> \u001b[39m\u001b[32m2340\u001b[39m     data = \u001b[43mastype_overflowsafe\u001b[49m\u001b[43m(\u001b[49m\u001b[43mdata\u001b[49m\u001b[43m,\u001b[49m\u001b[43m \u001b[49m\u001b[43mdtype\u001b[49m\u001b[43m=\u001b[49m\u001b[43mnew_dtype\u001b[49m\u001b[43m,\u001b[49m\u001b[43m \u001b[49m\u001b[43mcopy\u001b[49m\u001b[43m=\u001b[49m\u001b[38;5;28;43;01mFalse\u001b[39;49;00m\u001b[43m)\u001b[49m\n\u001b[32m   2341\u001b[39m     copy = \u001b[38;5;28;01mFalse\u001b[39;00m\n\u001b[32m   2343\u001b[39m \u001b[38;5;28;01mif\u001b[39;00m data.dtype.byteorder == \u001b[33m\"\u001b[39m\u001b[33m>\u001b[39m\u001b[33m\"\u001b[39m:\n\u001b[32m   2344\u001b[39m     \u001b[38;5;66;03m# TODO: better way to handle this?  non-copying alternative?\u001b[39;00m\n\u001b[32m   2345\u001b[39m     \u001b[38;5;66;03m#  without this, test_constructor_datetime64_bigendian fails\u001b[39;00m\n",
      "\u001b[36mFile \u001b[39m\u001b[32mpandas/_libs/tslibs/np_datetime.pyx:358\u001b[39m, in \u001b[36mpandas._libs.tslibs.np_datetime.astype_overflowsafe\u001b[39m\u001b[34m()\u001b[39m\n",
      "\u001b[36mFile \u001b[39m\u001b[32mpandas/_libs/tslibs/np_datetime.pyx:387\u001b[39m, in \u001b[36mpandas._libs.tslibs.np_datetime.astype_overflowsafe\u001b[39m\u001b[34m()\u001b[39m\n",
      "\u001b[31mTypeError\u001b[39m: datetime64 values must have a unit specified"
     ]
    }
   ],
   "source": [
    "for t in range(40):\n",
    "    pset.execute(\n",
    "        GrowParticles, runtime=np.timedelta64(1,'h'), dt=np.timedelta64(1,'h'), output_file=outfile, verbose_progress=False\n",
    "    )\n",
    "    for p in pset:\n",
    "        if p.splittime > 0:\n",
    "            pset.add(\n",
    "                parcels.ParticleSet(\n",
    "                    fieldset=fieldset,\n",
    "                    pclass=GrowingParticle,\n",
    "                    lon=0,\n",
    "                    lat=0,\n",
    "                    time=p.splittime,\n",
    "                    mass=p.splitmass,\n",
    "                )\n",
    "            )\n",
    "            p.splittime = -1  # reset splittime"
   ]
  },
  {
   "cell_type": "code",
   "execution_count": null,
   "metadata": {},
   "outputs": [
    {
     "data": {
      "text/plain": [
       "dtype('uint64')"
      ]
     },
     "execution_count": 21,
     "metadata": {},
     "output_type": "execute_result"
    }
   ],
   "source": [
    "np.dtype(np.uint64)"
   ]
  },
  {
   "attachments": {},
   "cell_type": "markdown",
   "metadata": {},
   "source": [
    "The 'trick' is that we place the `pset.execute()` call in a for-loop, so that we leave the Kernel-loop and can add Particles to the ParticleSet.\n",
    "\n",
    "Indeed, if we plot the mass of particles as a function of time, we see that new particles are created every time a particle reaches a mass of 5.\n"
   ]
  },
  {
   "cell_type": "code",
   "execution_count": null,
   "metadata": {},
   "outputs": [],
   "source": [
    "ds = xr.open_zarr(\"growingparticles.zarr\")\n",
    "plt.plot(ds.time.values[:].astype(\"timedelta64[s]\").T, ds.mass.T)\n",
    "plt.grid()\n",
    "plt.xlabel(\"Time\")\n",
    "plt.ylabel(\"Particle 'mass'\")\n",
    "plt.show()"
   ]
  }
 ],
 "metadata": {
  "kernelspec": {
   "display_name": "test-notebooks",
   "language": "python",
   "name": "python3"
  },
  "language_info": {
   "codemirror_mode": {
    "name": "ipython",
    "version": 3
   },
   "file_extension": ".py",
   "mimetype": "text/x-python",
   "name": "python",
   "nbconvert_exporter": "python",
   "pygments_lexer": "ipython3",
   "version": "3.11.0"
  }
 },
 "nbformat": 4,
 "nbformat_minor": 1
}
