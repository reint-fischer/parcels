{
 "cells": [
  {
   "attachments": {},
   "cell_type": "markdown",
   "metadata": {},
   "source": [
    "## Adding new particles to a ParticleSet during runtime\n"
   ]
  },
  {
   "attachments": {},
   "cell_type": "markdown",
   "metadata": {},
   "source": [
    "There are use-cases, where it is important to be able to add particles 'on-the-fly', during the runtime of a Parcels simulation.\n",
    "\n",
    "Unfortuantely, Parcels does not (yet) support adding new particles _within_ a `Kernel`. A workaround is to temporarily leave the `execution()` call to add particles via the `ParticleSet.add()` method, before continuing with `execution()`.\n",
    "\n",
    "See the example below, where we add 'mass' to a particle each timestep, based on a probablistic condition, and then split the particle once its 'mass' is larger than 5\n"
   ]
  },
  {
   "cell_type": "code",
   "execution_count": 75,
   "metadata": {},
   "outputs": [],
   "source": [
    "from datetime import timedelta\n",
    "\n",
    "import matplotlib.pyplot as plt\n",
    "import numpy as np\n",
    "import xarray as xr\n",
    "from IPython.display import HTML\n",
    "from matplotlib.animation import FuncAnimation\n",
    "\n",
    "import parcels"
   ]
  },
  {
   "cell_type": "code",
   "execution_count": 76,
   "metadata": {},
   "outputs": [
    {
     "name": "stdout",
     "output_type": "stream",
     "text": [
      "INFO: cf_xarray found variable 'uo' with CF standard name 'eastward_sea_water_velocity' in dataset, renamed it to 'U' for Parcels simulation.\n",
      "INFO: cf_xarray found variable 'vo' with CF standard name 'northward_sea_water_velocity' in dataset, renamed it to 'V' for Parcels simulation.\n"
     ]
    }
   ],
   "source": [
    "# Load the CopernicusMarine data in the Agulhas region from the example_datasets\n",
    "example_dataset_folder = parcels.download_example_dataset(\n",
    "    \"CopernicusMarine_data_for_Argo_tutorial\"\n",
    ")\n",
    "\n",
    "ds = xr.open_mfdataset(f\"{example_dataset_folder}/*.nc\", combine=\"by_coords\")\n",
    "ds.load()  # load the dataset into memory\n",
    "\n",
    "fieldset = parcels.FieldSet.from_copernicusmarine(ds)"
   ]
  },
  {
   "cell_type": "code",
   "execution_count": 77,
   "metadata": {},
   "outputs": [],
   "source": [
    "GrowingParticle = parcels.Particle.add_variable(\n",
    "    [\n",
    "        parcels.Variable(\"mass\", initial=0)\n",
    "    ]\n",
    ")\n",
    "\n",
    "def GrowParticles(particles, fieldset):\n",
    "    # 25% chance per timestep for particle to grow\n",
    "    growing_particles = np.random.random_sample(len(particles))<0.25\n",
    "    particles[growing_particles].mass += 1.0\n",
    "    \n",
    "    \n",
    "def SplitParticles(particles, fieldset):\n",
    "    splitting_particles = particles.mass >= 5.0\n",
    "    particles[splitting_particles].mass = particles[splitting_particles].mass / 2.0\n",
    "\n",
    "\n",
    "pset = parcels.ParticleSet(\n",
    "    fieldset=fieldset,\n",
    "    pclass=GrowingParticle,\n",
    "    lon=0,\n",
    "    lat=0,\n",
    "    time=fieldset.time_interval.left,\n",
    ")\n",
    "outfile = parcels.ParticleFile(\"growingparticles.zarr\", outputdt=np.timedelta64(1, \"h\"))"
   ]
  },
  {
   "cell_type": "code",
   "execution_count": 78,
   "metadata": {},
   "outputs": [
    {
     "name": "stdout",
     "output_type": "stream",
     "text": [
      "INFO: Output files are stored in /Users/Gebruiker/Documents/GitHub/parcels/docs/examples_v3/growingparticles.zarr\n"
     ]
    }
   ],
   "source": [
    "pset.execute(\n",
    "    GrowParticles,\n",
    "    runtime=np.timedelta64(40, \"h\"),\n",
    "    dt=np.timedelta64(1, \"h\"),\n",
    "    output_file=outfile,\n",
    "    verbose_progress=False,\n",
    "    )"
   ]
  },
  {
   "attachments": {},
   "cell_type": "markdown",
   "metadata": {},
   "source": [
    "The 'trick' is that we place the `pset.execute()` call in a for-loop, so that we leave the Kernel-loop and can add Particles to the ParticleSet.\n",
    "\n",
    "Indeed, if we plot the mass of particles as a function of time, we see that new particles are created every time a particle reaches a mass of 5.\n"
   ]
  },
  {
   "cell_type": "code",
   "execution_count": 83,
   "metadata": {},
   "outputs": [
    {
     "data": {
      "image/png": "[encoded data removed]",
      "text/plain": [
       "<Figure size 640x480 with 1 Axes>"
      ]
     },
     "metadata": {},
     "output_type": "display_data"
    }
   ],
   "source": [
    "ds_out = xr.open_zarr(\"growingparticles.zarr\")\n",
    "plt.plot((ds_out.time.values[:].T-ds.time.values[0]).astype('timedelta64[h]'), ds_out.mass.T)\n",
    "plt.grid()\n",
    "plt.xlabel(\"Time [h]\")\n",
    "plt.ylabel(\"Particle 'mass'\")\n",
    "plt.show()"
   ]
  },
  {
   "cell_type": "code",
   "execution_count": null,
   "metadata": {},
   "outputs": [],
   "source": []
  }
 ],
 "metadata": {
  "kernelspec": {
   "display_name": "test-notebooks",
   "language": "python",
   "name": "python3"
  },
  "language_info": {
   "codemirror_mode": {
    "name": "ipython",
    "version": 3
   },
   "file_extension": ".py",
   "mimetype": "text/x-python",
   "name": "python",
   "nbconvert_exporter": "python",
   "pygments_lexer": "ipython3",
   "version": "3.11.0"
  }
 },
 "nbformat": 4,
 "nbformat_minor": 1
}
